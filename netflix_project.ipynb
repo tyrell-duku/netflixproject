{
 "cells": [
  {
   "cell_type": "code",
   "execution_count": 8,
   "metadata": {},
   "outputs": [
    {
     "data": {
      "text/html": "<div>\n<style scoped>\n    .dataframe tbody tr th:only-of-type {\n        vertical-align: middle;\n    }\n\n    .dataframe tbody tr th {\n        vertical-align: top;\n    }\n\n    .dataframe thead th {\n        text-align: right;\n    }\n</style>\n<table border=\"1\" class=\"dataframe\">\n  <thead>\n    <tr style=\"text-align: right;\">\n      <th></th>\n      <th>show_id</th>\n      <th>type</th>\n      <th>title</th>\n      <th>director</th>\n      <th>cast</th>\n      <th>country</th>\n      <th>date_added</th>\n      <th>release_year</th>\n      <th>rating</th>\n      <th>duration</th>\n      <th>listed_in</th>\n      <th>description</th>\n    </tr>\n  </thead>\n  <tbody>\n    <tr>\n      <td>count</td>\n      <td>6234</td>\n      <td>6234</td>\n      <td>6234</td>\n      <td>4265</td>\n      <td>5664</td>\n      <td>5758</td>\n      <td>6223</td>\n      <td>6234</td>\n      <td>6224</td>\n      <td>6234</td>\n      <td>6234</td>\n      <td>6234</td>\n    </tr>\n    <tr>\n      <td>unique</td>\n      <td>N/A</td>\n      <td>2</td>\n      <td>6172</td>\n      <td>3301</td>\n      <td>5469</td>\n      <td>554</td>\n      <td>1524</td>\n      <td>N/A</td>\n      <td>14</td>\n      <td>201</td>\n      <td>461</td>\n      <td>6226</td>\n    </tr>\n    <tr>\n      <td>top</td>\n      <td>N/A</td>\n      <td>Movie</td>\n      <td>Love</td>\n      <td>Raúl Campos, Jan Suter</td>\n      <td>David Attenborough</td>\n      <td>United States</td>\n      <td>January 1, 2020</td>\n      <td>N/A</td>\n      <td>TV-MA</td>\n      <td>1 Season</td>\n      <td>Documentaries</td>\n      <td>A surly septuagenarian gets another chance at ...</td>\n    </tr>\n    <tr>\n      <td>freq</td>\n      <td>N/A</td>\n      <td>4265</td>\n      <td>3</td>\n      <td>18</td>\n      <td>18</td>\n      <td>2032</td>\n      <td>122</td>\n      <td>N/A</td>\n      <td>2027</td>\n      <td>1321</td>\n      <td>299</td>\n      <td>3</td>\n    </tr>\n    <tr>\n      <td>mean</td>\n      <td>7.67037e+07</td>\n      <td>N/A</td>\n      <td>N/A</td>\n      <td>N/A</td>\n      <td>N/A</td>\n      <td>N/A</td>\n      <td>N/A</td>\n      <td>2013.36</td>\n      <td>N/A</td>\n      <td>N/A</td>\n      <td>N/A</td>\n      <td>N/A</td>\n    </tr>\n  </tbody>\n</table>\n</div>",
      "text/plain": "            show_id   type title                director                cast  \\\ncount          6234   6234  6234                    4265                5664   \nunique          N/A      2  6172                    3301                5469   \ntop             N/A  Movie  Love  Raúl Campos, Jan Suter  David Attenborough   \nfreq            N/A   4265     3                      18                  18   \nmean    7.67037e+07    N/A   N/A                     N/A                 N/A   \n\n              country       date_added release_year rating  duration  \\\ncount            5758             6223         6234   6224      6234   \nunique            554             1524          N/A     14       201   \ntop     United States  January 1, 2020          N/A  TV-MA  1 Season   \nfreq             2032              122          N/A   2027      1321   \nmean              N/A              N/A      2013.36    N/A       N/A   \n\n            listed_in                                        description  \ncount            6234                                               6234  \nunique            461                                               6226  \ntop     Documentaries  A surly septuagenarian gets another chance at ...  \nfreq              299                                                  3  \nmean              N/A                                                N/A  "
     },
     "execution_count": 8,
     "metadata": {},
     "output_type": "execute_result"
    }
   ],
   "source": [
    "import pandas as pd\n",
    "import matplotlib as mpl\n",
    "import numpy as np\n",
    "from datetime import datetime\n",
    "import re\n",
    "\n",
    "#Loading in CSV\n",
    "\n",
    "dataframe = pd.read_csv('netflix_titles.csv')\n",
    "dataframe.fillna('N/A')\n",
    "dataframe.describe(include='all').head().fillna('N/A')\n",
    "\n",
    "tv_shows = dataframe[dataframe['type'] == 'TV Show']\n",
    "films = dataframe[dataframe['type'] == ''TV Show'']\n",
    "\n"
   ]
  },
  {
   "cell_type": "code",
   "execution_count": null,
   "metadata": {},
   "outputs": [],
   "source": []
  },
  {
   "cell_type": "code",
   "execution_count": null,
   "metadata": {},
   "outputs": [],
   "source": []
  },
  {
   "cell_type": "code",
   "execution_count": null,
   "metadata": {},
   "outputs": [],
   "source": []
  }
 ],
 "metadata": {
  "kernelspec": {
   "display_name": "Python 3",
   "language": "python",
   "name": "python3"
  },
  "language_info": {
   "codemirror_mode": {
    "name": "ipython",
    "version": 3
   },
   "file_extension": ".py",
   "mimetype": "text/x-python",
   "name": "python",
   "nbconvert_exporter": "python",
   "pygments_lexer": "ipython3",
   "version": "3.7.4-final"
  }
 },
 "nbformat": 4,
 "nbformat_minor": 2
}